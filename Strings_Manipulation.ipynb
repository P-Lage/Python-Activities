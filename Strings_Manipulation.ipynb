{
 "cells": [
  {
   "cell_type": "markdown",
   "id": "cfcb5f8f",
   "metadata": {},
   "source": [
    "# String Manipulation in Python"
   ]
  },
  {
   "cell_type": "markdown",
   "id": "7f920b7d",
   "metadata": {},
   "source": [
    "## 1.1 Introduction\n",
    "#### This mini-course will cover the main techniques for string manipulation in Python, structured into thematic sections. Each section will include an explanation, practical examples, a solved activity, and proposed challenges."
   ]
  },
  {
   "cell_type": "markdown",
   "id": "ef6cdf19",
   "metadata": {},
   "source": [
    "#### Importing resources (if necessary)"
   ]
  },
  {
   "cell_type": "code",
   "execution_count": 5,
   "id": "a8b61dc6",
   "metadata": {},
   "outputs": [],
   "source": [
    "import re"
   ]
  },
  {
   "cell_type": "markdown",
   "id": "172de92f",
   "metadata": {},
   "source": [
    "## 1.2 Basic String Operations\n",
    "\n",
    "#### Strings in Python are immutable sequences of characters that allow several operations, such as indexing, slicing, and concatenation."
   ]
  },
  {
   "cell_type": "markdown",
   "id": "193c407e",
   "metadata": {},
   "source": [
    "### Demonstration"
   ]
  },
  {
   "cell_type": "code",
   "execution_count": 6,
   "id": "f9f9cfde",
   "metadata": {},
   "outputs": [
    {
     "name": "stdout",
     "output_type": "stream",
     "text": [
      "Original text: Python is amazing!\n"
     ]
    }
   ],
   "source": [
    "text = \"Python is amazing!\" \n",
    "print(\"Original text:\", text)"
   ]
  },
  {
   "cell_type": "markdown",
   "id": "e7ed95a6",
   "metadata": {},
   "source": [
    "### Indexing\n"
   ]
  },
  {
   "cell_type": "code",
   "execution_count": 7,
   "id": "59838d19",
   "metadata": {},
   "outputs": [
    {
     "name": "stdout",
     "output_type": "stream",
     "text": [
      "First character: P\n",
      "Second character: y\n",
      "Third character: t\n",
      "Fourth character: h\n",
      "Fifth character: o\n",
      "Sixth character: n\n"
     ]
    }
   ],
   "source": [
    "print(\"First character:\", text[0]) \n",
    "print(\"Second character:\", text[1]) \n",
    "print(\"Third character:\", text[2]) \n",
    "print(\"Fourth character:\", text[3]) \n",
    "print(\"Fifth character:\", text[4]) \n",
    "print(\"Sixth character:\", text[5])"
   ]
  },
  {
   "cell_type": "markdown",
   "id": "5103d072",
   "metadata": {},
   "source": [
    "### Slicing"
   ]
  },
  {
   "cell_type": "code",
   "execution_count": 8,
   "id": "d074c172",
   "metadata": {},
   "outputs": [
    {
     "name": "stdout",
     "output_type": "stream",
     "text": [
      "Last 3 characters: ng!\n",
      "From the 3rd to the 8th character: thon i\n"
     ]
    }
   ],
   "source": [
    "print(\"Last 3 characters:\", text[-3:]) \n",
    "print(\"From the 3rd to the 8th character:\", text[2:8])"
   ]
  },
  {
   "cell_type": "markdown",
   "id": "e527b2d3",
   "metadata": {},
   "source": [
    "### Transformations"
   ]
  },
  {
   "cell_type": "code",
   "execution_count": 9,
   "id": "5270811c",
   "metadata": {},
   "outputs": [
    {
     "name": "stdout",
     "output_type": "stream",
     "text": [
      "Text in uppercase: PYTHON IS AMAZING!\n",
      "Text in lowercase: python is amazing!\n",
      "Capitalized text: Python is amazing!\n",
      "Reversed text: !gnizama si nohtyP\n"
     ]
    }
   ],
   "source": [
    "print(\"Text in uppercase:\", text.upper()) \n",
    "print(\"Text in lowercase:\", text.lower()) \n",
    "print(\"Capitalized text:\", text.capitalize()) \n",
    "print(\"Reversed text:\", text[::-1]) # String reversal using slicing"
   ]
  },
  {
   "cell_type": "markdown",
   "id": "993ae59a",
   "metadata": {},
   "source": [
    "### Substitution"
   ]
  },
  {
   "cell_type": "code",
   "execution_count": 10,
   "id": "bca75ae5",
   "metadata": {},
   "outputs": [
    {
     "name": "stdout",
     "output_type": "stream",
     "text": [
      "Substituted text: Python is fantastic!\n"
     ]
    }
   ],
   "source": [
    "print(\"Substituted text:\", text.replace(\"amazing\", \"fantastic\"))"
   ]
  },
  {
   "cell_type": "markdown",
   "id": "8f22f198",
   "metadata": {},
   "source": [
    "### Splitting"
   ]
  },
  {
   "cell_type": "code",
   "execution_count": 11,
   "id": "6eef867e",
   "metadata": {},
   "outputs": [
    {
     "name": "stdout",
     "output_type": "stream",
     "text": [
      "Text split: ['Python', 'is', 'amazing!']\n"
     ]
    }
   ],
   "source": [
    "print(\"Text split:\", text.split()) # Splits the string into a list of words"
   ]
  },
  {
   "cell_type": "markdown",
   "id": "9f565797",
   "metadata": {},
   "source": [
    "### Checks"
   ]
  },
  {
   "cell_type": "code",
   "execution_count": 14,
   "id": "64ea2ab4",
   "metadata": {},
   "outputs": [
    {
     "name": "stdout",
     "output_type": "stream",
     "text": [
      "Does the text start with 'Python'?: True\n",
      "Does the text end with 'amazing!'?: True\n",
      "Contains the word 'is'?: True\n"
     ]
    }
   ],
   "source": [
    "print(\"Does the text start with 'Python'?:\", text.startswith(\"Python\")) \n",
    "print(\"Does the text end with 'amazing!'?:\", text.endswith(\"amazing!\")) \n",
    "print(\"Contains the word 'is'?:\", \"is\" in text)"
   ]
  },
  {
   "cell_type": "markdown",
   "id": "8e2d5241",
   "metadata": {},
   "source": [
    "### Strip "
   ]
  },
  {
   "cell_type": "code",
   "execution_count": 15,
   "id": "e0a49615",
   "metadata": {},
   "outputs": [
    {
     "name": "stdout",
     "output_type": "stream",
     "text": [
      "Without extra spaces: Python is amazing!\n",
      "Without extra spaces on the right:  Python is amazing!\n",
      "Without extra spaces on the left: Python is amazing! \n"
     ]
    }
   ],
   "source": [
    "text_with_spaces = \" Python is amazing! \" \n",
    "print(\"Without extra spaces:\", text_with_spaces.strip()) \n",
    "print(\"Without extra spaces on the right:\", text_with_spaces.rstrip()) \n",
    "print(\"Without extra spaces on the left:\", text_with_spaces.lstrip())"
   ]
  },
  {
   "cell_type": "markdown",
   "id": "29f03a28",
   "metadata": {},
   "source": [
    "### Counting"
   ]
  },
  {
   "cell_type": "code",
   "execution_count": 16,
   "id": "a2beb7b1",
   "metadata": {},
   "outputs": [
    {
     "name": "stdout",
     "output_type": "stream",
     "text": [
      "Number of occurrences of 'i': 2\n"
     ]
    }
   ],
   "source": [
    "print(\"Number of occurrences of 'i':\", text.count(\"i\"))"
   ]
  },
  {
   "cell_type": "markdown",
   "id": "f80a89e2",
   "metadata": {},
   "source": [
    "### Substring"
   ]
  },
  {
   "cell_type": "code",
   "execution_count": 17,
   "id": "a5b99ed5",
   "metadata": {},
   "outputs": [
    {
     "name": "stdout",
     "output_type": "stream",
     "text": [
      "Position of the word 'is': 7\n",
      "Position of the word 'Java': -1\n"
     ]
    }
   ],
   "source": [
    "print(\"Position of the word 'is':\", text.find(\"is\")) # Returns the index of the first occurrence \n",
    "print(\"Position of the word 'Java':\", text.find(\"Java\")) # Returns -1 if not found"
   ]
  },
  {
   "cell_type": "markdown",
   "id": "010304d5",
   "metadata": {},
   "source": [
    "### Alignment"
   ]
  },
  {
   "cell_type": "code",
   "execution_count": 18,
   "id": "360be506",
   "metadata": {},
   "outputs": [
    {
     "name": "stdout",
     "output_type": "stream",
     "text": [
      "Centered text: ------Python is amazing!------\n",
      "Right-aligned text: ------------Python is amazing!\n",
      "Left-aligned text: Python is amazing!------------\n"
     ]
    }
   ],
   "source": [
    "print(\"Centered text:\", text.center(30, \"-\")) # Centers and fills with '-' \n",
    "print(\"Right-aligned text:\", text.rjust(30, \"-\")) # Right-aligns with '-' \n",
    "print(\"Left-aligned text:\", text.ljust(30, \"-\")) # Left-aligns with '-'"
   ]
  },
  {
   "cell_type": "markdown",
   "id": "dd6511b1",
   "metadata": {},
   "source": [
    "### Formatting"
   ]
  },
  {
   "cell_type": "code",
   "execution_count": 19,
   "id": "3443034f",
   "metadata": {},
   "outputs": [
    {
     "name": "stdout",
     "output_type": "stream",
     "text": [
      "Formatted sentence: John is 25 years old and loves Python\n"
     ]
    }
   ],
   "source": [
    "name = \"John\" \n",
    "age = 25 \n",
    "print(\"Formatted sentence:\", f\"{name} is {age} years old and loves {text[0 : 6]}\")"
   ]
  },
  {
   "cell_type": "markdown",
   "id": "adc78278",
   "metadata": {},
   "source": [
    "###  Solved Activities"
   ]
  },
  {
   "cell_type": "markdown",
   "id": "56965ae8",
   "metadata": {},
   "source": [
    "1st Activity: Create a program that receives a word from the user and displays the first, last, and third characters of the string."
   ]
  },
  {
   "cell_type": "code",
   "execution_count": 20,
   "id": "9a1e7d51",
   "metadata": {},
   "outputs": [
    {
     "name": "stdout",
     "output_type": "stream",
     "text": [
      "First character: f\n",
      "Last character: f\n",
      "Third character: b\n"
     ]
    }
   ],
   "source": [
    "text = input(\"Enter a word: \") \n",
    "print(\"First character:\", text[0]) \n",
    "print(\"Last character:\", text[-1]) \n",
    "if len(text) >= 3: \n",
    "    print(\"Third character:\", text[2]) \n",
    "else: \n",
    "    print(\"The entered word is too short to show the third character.\")"
   ]
  },
  {
   "cell_type": "markdown",
   "id": "3b0e2535",
   "metadata": {},
   "source": [
    "2nd Activity: Write a program that asks the user for a sentence and displays the first five and last five characters."
   ]
  },
  {
   "cell_type": "code",
   "execution_count": 21,
   "id": "2af7eed2",
   "metadata": {},
   "outputs": [
    {
     "name": "stdout",
     "output_type": "stream",
     "text": [
      "First five characters: afdsg\n",
      "Last five characters: sdfgh\n"
     ]
    }
   ],
   "source": [
    "sentence = input(\"Enter a sentence: \") \n",
    "print(\"First five characters:\", sentence[:5]) \n",
    "print(\"Last five characters:\", sentence[-5:])"
   ]
  },
  {
   "cell_type": "markdown",
   "id": "3ec780dc",
   "metadata": {},
   "source": [
    "3rd Activity: Develop a program that checks if a word entered by the user is a palindrome, ignoring uppercase and lowercase."
   ]
  },
  {
   "cell_type": "code",
   "execution_count": 22,
   "id": "07fbb73b",
   "metadata": {},
   "outputs": [
    {
     "name": "stdout",
     "output_type": "stream",
     "text": [
      "'fgadsfga' is not a palindrome.\n"
     ]
    }
   ],
   "source": [
    "word = input(\"Enter a word: \").lower() \n",
    "if word == word[::-1]: \n",
    "    print(f\"'{word}' is a palindrome!\") \n",
    "else: \n",
    "    print(f\"'{word}' is not a palindrome.\")"
   ]
  },
  {
   "cell_type": "markdown",
   "id": "68b0bb42",
   "metadata": {},
   "source": [
    "4th Activity: Write a program that receives a sentence and replaces all occurrences of a specific word with another one provided by the user."
   ]
  },
  {
   "cell_type": "code",
   "execution_count": 23,
   "id": "608641a0",
   "metadata": {},
   "outputs": [
    {
     "name": "stdout",
     "output_type": "stream",
     "text": [
      "Modified sentence: asdfgdsafg\n"
     ]
    }
   ],
   "source": [
    "sentence = input(\"Enter a sentence: \") \n",
    "word_to_replace = input(\"Enter the word you want to replace: \") \n",
    "replacement = input(\"Enter the new word: \") \n",
    "modified_sentence = sentence.replace(word_to_replace, replacement) \n",
    "print(\"Modified sentence:\", modified_sentence)"
   ]
  },
  {
   "cell_type": "markdown",
   "id": "e486da8f",
   "metadata": {},
   "source": [
    "5th Activity: Implement a program that validates an email provided by the user, checking if it contains '@' and a valid domain."
   ]
  },
  {
   "cell_type": "code",
   "execution_count": 24,
   "id": "dcd20ed9",
   "metadata": {},
   "outputs": [
    {
     "name": "stdout",
     "output_type": "stream",
     "text": [
      "'sdfhgseth' is not a valid email.\n"
     ]
    }
   ],
   "source": [
    "email = input(\"Enter an email: \") \n",
    "if \"@\" in email and \".\" in email.split(\"@\")[-1]: \n",
    "    print(f\"'{email}' is a valid email.\") \n",
    "else: \n",
    "    print(f\"'{email}' is not a valid email.\")"
   ]
  },
  {
   "cell_type": "markdown",
   "id": "6106ddb7",
   "metadata": {},
   "source": [
    "### Proposed Activities"
   ]
  },
  {
   "cell_type": "markdown",
   "id": "19c54ba9",
   "metadata": {},
   "source": [
    "1st Activity: Given a string, extract the first and last letter, replace all vowels with asterisks, and finally, remove extra spaces at the beginning and end of the string."
   ]
  },
  {
   "cell_type": "code",
   "execution_count": 20,
   "id": "9a1e7d51",
   "metadata": {},
   "outputs": [
    {
     "name": "stdout",
     "output_type": "stream",
     "text": [
      "First character: f\n",
      "Last character: f\n",
      "Third character: b\n"
     ]
    }
   ],
   "source": [
    "text = input(\"Enter a word: \") \n",
    "print(\"First character:\", text[0]) \n",
    "print(\"Last character:\", text[-1]) \n",
    "if len(text) >= 3: \n",
    "    print(\"Third character:\", text[2]) \n",
    "else: \n",
    "    print(\"The entered word is too short to show the third character.\")"
   ]
  },
  {
   "cell_type": "markdown",
   "id": "dbd73143",
   "metadata": {},
   "source": [
    "2nd Activity: Create a function that counts how many times a specific word appears in a sentence. Use a string provided by the user and split the sentence by spaces to find the words."
   ]
  },
  {
   "cell_type": "code",
   "execution_count": 21,
   "id": "2af7eed2",
   "metadata": {},
   "outputs": [
    {
     "name": "stdout",
     "output_type": "stream",
     "text": [
      "First five characters: afdsg\n",
      "Last five characters: sdfgh\n"
     ]
    }
   ],
   "source": [
    "sentence = input(\"Enter a sentence: \") \n",
    "print(\"First five characters:\", sentence[:5]) \n",
    "print(\"Last five characters:\", sentence[-5:])"
   ]
  },
  {
   "cell_type": "markdown",
   "id": "af071b96",
   "metadata": {},
   "source": [
    "3rd Activity: Given a string with several words, use slicing to access a specific word and transform it to uppercase."
   ]
  },
  {
   "cell_type": "code",
   "execution_count": 22,
   "id": "07fbb73b",
   "metadata": {},
   "outputs": [
    {
     "name": "stdout",
     "output_type": "stream",
     "text": [
      "'fgadsfga' is not a palindrome.\n"
     ]
    }
   ],
   "source": [
    "word = input(\"Enter a word: \").lower() \n",
    "if word == word[::-1]: \n",
    "    print(f\"'{word}' is a palindrome!\") \n",
    "else: \n",
    "    print(f\"'{word}' is not a palindrome.\")"
   ]
  },
  {
   "cell_type": "markdown",
   "id": "859eebbe",
   "metadata": {},
   "source": [
    "4th Activity: Given a sentence, check if a specific word is present in it. If the word is found, return the position of its occurrence."
   ]
  },
 {
   "cell_type": "code",
   "execution_count": 23,
   "id": "608641a0",
   "metadata": {},
   "outputs": [
    {
     "name": "stdout",
     "output_type": "stream",
     "text": [
      "Modified sentence: asdfgdsafg\n"
     ]
    }
   ],
   "source": [
    "sentence = input(\"Enter a sentence: \") \n",
    "word_to_replace = input(\"Enter the word you want to replace: \") \n",
    "replacement = input(\"Enter the new word: \") \n",
    "modified_sentence = sentence.replace(word_to_replace, replacement) \n",
    "print(\"Modified sentence:\", modified_sentence)"
   ]
  },
  {
   "cell_type": "markdown",
   "id": "5b4bb51c",
   "metadata": {},
   "source": [
    "5th Activity: Given a text, format it so that the first letter of each word is uppercase and the rest are lowercase."
   ]
  },
  {
   "cell_type": "code",
   "execution_count": 24,
   "id": "dcd20ed9",
   "metadata": {},
   "outputs": [
    {
     "name": "stdout",
     "output_type": "stream",
     "text": [
      "'sdfhgseth' is not a valid email.\n"
     ]
    }
   ],
   "source": [
    "email = input(\"Enter an email: \") \n",
    "if \"@\" in email and \".\" in email.split(\"@\")[-1]: \n",
    "    print(f\"'{email}' is a valid email.\") \n",
    "else: \n",
    "    print(f\"'{email}' is not a valid email.\")"
   ]
  },
  {
   "cell_type": "markdown",
   "id": "e689187a",
   "metadata": {},
   "source": [
    "6th Activity: Given a sentence, replace all occurrences of a specific word with another, but only if the word appears more than twice."
   ]
  },
  {
   "cell_type": "markdown",
   "id": "4e3ba5a4",
   "metadata": {},
   "source": [
    "7th Activity: Given a date in the format \"dd-mm-yyyy\", format it to \"yyyy/mm/dd\"."
   ]
  },
  {
   "cell_type": "markdown",
   "id": "4970176f",
   "metadata": {},
   "source": [
    "8th Activity: Given a string, check if it contains any word that is a palindrome (reads the same forwards and backwards)."
   ]
  },
  {
   "cell_type": "markdown",
   "id": "9f77500a",
   "metadata": {},
   "source": [
    "9th Activity: Create a function that formats a decimal number as a string representing the price of a product in the format \"$ 123,45\"."
   ]
  },
  {
   "cell_type": "markdown",
   "id": "1e5710e9",
   "metadata": {},
   "source": [
    "10th Activity: Given a text containing information like name, age, and city (example: \"Name: John, Age: 25, City: São Paulo\"), extract this information, organize it in a dictionary, and return the string in the format \"Name: João, Age: 25, City: São Paulo\"."
   ]
  }
 ],
 "metadata": {
  "kernelspec": {
   "display_name": "Python 3",
   "language": "python",
   "name": "python3"
  },
  "language_info": {
   "codemirror_mode": {
    "name": "ipython",
    "version": 3
   },
   "file_extension": ".py",
   "mimetype": "text/x-python",
   "name": "python",
   "nbconvert_exporter": "python",
   "pygments_lexer": "ipython3",
   "version": "3.13.1"
  }
 },
 "nbformat": 4,
 "nbformat_minor": 5
}
